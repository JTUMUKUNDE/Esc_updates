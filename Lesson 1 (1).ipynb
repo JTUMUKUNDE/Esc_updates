{
  "metadata": {
    "kernelspec": {
      "name": "python",
      "display_name": "Python (Pyodide)",
      "language": "python"
    },
    "language_info": {
      "codemirror_mode": {
        "name": "python",
        "version": 3
      },
      "file_extension": ".py",
      "mimetype": "text/x-python",
      "name": "python",
      "nbconvert_exporter": "python",
      "pygments_lexer": "ipython3",
      "version": "3.8"
    },
    "colab": {
      "provenance": []
    }
  },
  "nbformat_minor": 4,
  "nbformat": 4,
  "cells": [
    {
      "cell_type": "markdown",
      "source": "<img src=\"https://tinyurl.com/k2t79s6t\" style=\"float: left; margin: 20px; height: 55px\">\n \n# Basic Python Fundamentals\n\n_Authors: Christopher Chan_",
      "metadata": {
        "id": "ELzkR4zPIHa5"
      }
    },
    {
      "cell_type": "markdown",
      "source": "### Objective\n\nUpon completion of this lesson you should be able to understand the following:\n1. Variable creation and naming convention\n2. Object types\n3. Basic mathematic operations, Booleans and Logical Operators\n4. Index and Slicing\n5. Strings\n6. Lists, Tuples, Dictionaries and Mutability\n\nThis will help us understand the basic fundamentals to python",
      "metadata": {
        "id": "_lcClxj9IHbC"
      }
    },
    {
      "cell_type": "markdown",
      "source": "##### ==================================================================================================\n### Variables\n\nVariables are names that have been assigned to specific objects.",
      "metadata": {
        "id": "CnppWrBcIHbE"
      }
    },
    {
      "cell_type": "markdown",
      "source": "##### ==================================================================================================\nCreate a variable called `num_coopers` to represent the number of COOPers in class. Assume the number is 16.\n\nExample:",
      "metadata": {
        "id": "FqNJpBuRIHbF"
      }
    },
    {
      "cell_type": "code",
      "source": "num_coopers = 16\n\nprint(num_coopers)",
      "metadata": {
        "id": "kNIr-qYSIHbF"
      },
      "execution_count": null,
      "outputs": []
    },
    {
      "cell_type": "markdown",
      "source": "##### ==================================================================================================\nCreate a variable `num_capt` to represent the number of captains in class. Assume the number is 4.\n\nExample:",
      "metadata": {
        "id": "KGCcI3FHIHbH"
      }
    },
    {
      "cell_type": "code",
      "source": "num_capt = 4\n\nprint(num_capt)",
      "metadata": {
        "id": "Uh1q5JdTIHbJ"
      },
      "execution_count": null,
      "outputs": []
    },
    {
      "cell_type": "markdown",
      "source": "##### ==================================================================================================\n### Restrictions on Variable Names\n\n- Cannot start with numbers (i.e., `5`, `5_head`).\n- Cannot match names of Python keywords (i.e., '`for`', '`and`', '`elif`').\n- Cannot contain spaces or periods.",
      "metadata": {
        "id": "nIMZh-9eIHbK"
      }
    },
    {
      "cell_type": "markdown",
      "source": "#### ✋🏼 Callout !!\n\nPython is case-sensitive. This means that variables like these: `coop_careers` and `COOP_careers` are not the same!",
      "metadata": {}
    },
    {
      "cell_type": "markdown",
      "source": "##### ==================================================================================================\n### Best Practices for Variable Names\n- Should be *unambiguous* and *descriptive*\n- Short and clear variable names are best\n- Lowercase variables with underscores between words (i.e., '`coop_student`', '`coop_captain`')",
      "metadata": {
        "id": "EEP3rRJTIHbM"
      }
    },
    {
      "cell_type": "markdown",
      "source": "##### ==================================================================================================\n### Objects in Python\n\nThe concept of objects (and by extension Object Oriented Programming) is something that can take a whole introductory course to explain, but for our purposes\nwe only need to know a few key things:\n\n1. In Python, everything is an object (including functions!). Variables always reference some kind of object\n2. All objects have three properties that we are concerned with: attributes, methods, and types\n3. Attributes are things that describe an object, such as a name. These will vary depending on the object in question\n4. Methods are things that the object can do. For example, a `string` object has a `replace` method which allows you to replace text within that string\n5. Each object has a data type that defines how it can be interacted with. For instance, the number `1` is an integer object and can be used with other numeric types and operations",
      "metadata": {}
    },
    {
      "cell_type": "markdown",
      "source": "##### ==================================================================================================\n### Common Types in Python",
      "metadata": {
        "id": "h7StInO_IHbN"
      }
    },
    {
      "cell_type": "markdown",
      "source": "The *type* of an object in any programming language tells a computer what operations are defined for that object and how they are defined.",
      "metadata": {
        "id": "qd-3z6c7IHbO"
      }
    },
    {
      "cell_type": "markdown",
      "source": "##### ==================================================================================================\nAdding two `int` (integer numbers) would return a integer.\n\nExample:",
      "metadata": {
        "id": "K7DfaVNcIHbO"
      }
    },
    {
      "cell_type": "code",
      "source": "ten = 5 + 5\nprint(ten)",
      "metadata": {
        "id": "oplFp7lxIHbP"
      },
      "execution_count": null,
      "outputs": []
    },
    {
      "cell_type": "markdown",
      "source": "##### ==================================================================================================\nAdding two `float` (numbers with decimals) would return a float.\n\nExample:",
      "metadata": {
        "id": "ACDG59TUIHbP"
      }
    },
    {
      "cell_type": "code",
      "source": "also_ten = 5.0 + 5.0\nprint(also_ten)",
      "metadata": {
        "id": "tAJeT1B9IHbQ"
      },
      "execution_count": null,
      "outputs": []
    },
    {
      "cell_type": "markdown",
      "source": "##### ==================================================================================================\nThe `+` operation concatenates objects, including strings.\n\nAdding two `str` (strings - sequence of characters)\n\nExample:",
      "metadata": {
        "id": "IuZnv1LEIHbQ"
      }
    },
    {
      "cell_type": "code",
      "source": "fifty_five = \"5\" + \"5\"\nprint(fifty_five)",
      "metadata": {
        "id": "Aiw4ZdvYIHbQ"
      },
      "execution_count": null,
      "outputs": []
    },
    {
      "cell_type": "markdown",
      "source": "##### ==================================================================================================\nThe built-in function in Python `len` counts and returns the number of elements in a object.\n\nApplying `len` to a string.\n\nExample:",
      "metadata": {
        "id": "_FJ5ra0gIHbR"
      }
    },
    {
      "cell_type": "code",
      "source": "len(\"33333\")",
      "metadata": {
        "id": "7_eurzzeIHbR"
      },
      "execution_count": null,
      "outputs": []
    },
    {
      "cell_type": "markdown",
      "source": "##### ==================================================================================================",
      "metadata": {
        "id": "Y3hhOiO3IHbS"
      }
    },
    {
      "cell_type": "markdown",
      "source": "### Single Elements\n\n- **Integer:** Are whole number ranging from negative infinity to infinity, such as `-2`,`-1`,`0`,`1`, `2`, etc.\n- **Float:** A number with a decimal, such as `1.23482` or `3.0`.\n- **Boolean:** `True` or `False`.",
      "metadata": {
        "id": "g08jYl2XIHbS"
      }
    },
    {
      "cell_type": "markdown",
      "source": "### Containers\n\n- **Strings:** A sequence of characters: `\"Chris is very handsome\"`\n- **Lists:** An ordered sequence of objects: `[1, 'love', ['Chris']]`\n- **Tuples:** Similar to a List but is immutable after it is created, `(1, 'love', ['Chris'])`\n- **Dictionaries**: A collection of key-value pairs: `{'name': 'Chris Chan', 'gender': Male, 'organization': COOP_Careers}`",
      "metadata": {
        "id": "b8iGkHdkIHbS"
      }
    },
    {
      "cell_type": "markdown",
      "source": "### Arithmetic Operators",
      "metadata": {
        "id": "pK6mt4TuIHbS"
      }
    },
    {
      "cell_type": "markdown",
      "source": "Python have symbols called `operators` that perform basic mathematics arithmetic computations",
      "metadata": {
        "id": "fvJTkP5oIHbT"
      }
    },
    {
      "cell_type": "code",
      "source": "print(4 + 2)  #addition\nprint(4 - 2)  #subtraction\nprint(4 * 2)  #multiplication\nprint(4 / 4)  #division\nprint(4 // 4) #floor division / integer division (divides then round down to the nearest integer)\nprint(4 ** 2) #exponent\nprint(4 % 2)  #modulo",
      "metadata": {
        "id": "VFbu_gALIHbT"
      },
      "execution_count": null,
      "outputs": []
    },
    {
      "cell_type": "markdown",
      "source": "##### ==================================================================================================\n### Assignment Operators\n\nPython uses a single equal sign (`=`) to assign values to a variable. We can combine the arithmetic operators with the assignment operator as a shortcut when we perform an operation and update a variable.",
      "metadata": {}
    },
    {
      "cell_type": "code",
      "source": "my_num = 10 # Standard assignment\nmy_num -= 1 # Subtracts 1 from `my_num` and assigns the result back to `my_num`\nmy_num += 1 # Adds 1 to `my_num` and assigns the result back to `my_num`\nmy_num *= 1 # Multiplies the original value in `my_num` by 1 and assigns the result back to `my_num`\nmy_num /= 1 # Divides the original value in `my_num` by 1 and assigns the result back to `my_num`\n# The above can be done with all the aforementioned arithmetic operators\nprint(my_num)",
      "metadata": {
        "trusted": true
      },
      "execution_count": null,
      "outputs": []
    },
    {
      "cell_type": "markdown",
      "source": "##### ==================================================================================================\n### Booleans and Logical Operators",
      "metadata": {
        "id": "qcCxLmAcIHbT"
      }
    },
    {
      "cell_type": "markdown",
      "source": "The result of a Boolean results in two values: `True` and `False`\n\nThe `assert` statement tests if a condition returns True. If condition returns True, then nothing happens. If condition returns False, AssertionError is raised.",
      "metadata": {
        "id": "QkRFTOAKIHbU"
      }
    },
    {
      "cell_type": "markdown",
      "source": "##### ==================================================================================================\n### Comparison Operators and Inequalities\n\n- Strictly Greater than: `>`\n- Greater than or equal to: `>=`\n\n- Strictly Less than: `<`\n- Less than or equal to: `<=`\n\n- Equal: `==`\n- Does not equal: `!=`\n\n##### ==================================================================================================\n### Logical Operators\n\n- `and`: Are both X and Y statements true?\n- `or`: Is at least one of the two statements X and Y true?\n- `not`: Is statement X false?",
      "metadata": {
        "id": "F9OHOyYDIHbU"
      }
    },
    {
      "cell_type": "code",
      "source": "10 > 5",
      "metadata": {
        "id": "C3UVOoGVIHbU"
      },
      "execution_count": null,
      "outputs": []
    },
    {
      "cell_type": "code",
      "source": "10 < 5",
      "metadata": {
        "id": "RJF30BiDIHbU"
      },
      "execution_count": null,
      "outputs": []
    },
    {
      "cell_type": "code",
      "source": "10 > 5 and 4 > 1",
      "metadata": {
        "id": "K53DSrW3IHbV"
      },
      "execution_count": null,
      "outputs": []
    },
    {
      "cell_type": "code",
      "source": "10 > 5 and 4 < 1",
      "metadata": {
        "id": "DWHMvKGqIHbV"
      },
      "execution_count": null,
      "outputs": []
    },
    {
      "cell_type": "code",
      "source": "10 > 5 or 5 > 10",
      "metadata": {
        "id": "C5nTknTfIHbV"
      },
      "execution_count": null,
      "outputs": []
    },
    {
      "cell_type": "code",
      "source": "not 10 > 5",
      "metadata": {
        "id": "9B-o7xGpIHbV"
      },
      "execution_count": null,
      "outputs": []
    },
    {
      "cell_type": "markdown",
      "source": "##### ==================================================================================================\nNotice nothing happens when the statement below is run because the statement is True",
      "metadata": {
        "id": "bXX1-QuHIHbW"
      }
    },
    {
      "cell_type": "code",
      "source": "x = 100\n\nassert x == 100",
      "metadata": {
        "id": "kRhn6PW_IHbW"
      },
      "execution_count": null,
      "outputs": []
    },
    {
      "cell_type": "markdown",
      "source": "##### ==================================================================================================\nNotice how a `AssertionError` appeared when the statement is not True when using the `assert` statement.",
      "metadata": {
        "id": "hDbafXD2IHbW"
      }
    },
    {
      "cell_type": "code",
      "source": "x = 100\n\nassert x == 200",
      "metadata": {
        "id": "ykq8ZgyYIHbX"
      },
      "execution_count": null,
      "outputs": []
    },
    {
      "cell_type": "markdown",
      "source": "##### ==================================================================================================\n## Strings",
      "metadata": {
        "id": "wR1AWp2jIHbX"
      }
    },
    {
      "cell_type": "markdown",
      "source": "*String construction*\n\nThe `type()` function returns us the type of the object\n\nExample:",
      "metadata": {
        "id": "V7fy6CzbIHbX"
      }
    },
    {
      "cell_type": "code",
      "source": "my_string = \"I love COOP Careers\"\ntype(my_string)",
      "metadata": {
        "id": "YhGpAeezIHbX"
      },
      "execution_count": null,
      "outputs": []
    },
    {
      "cell_type": "markdown",
      "source": "##### ==================================================================================================\nThe `len()` function returns us the number of elements in the object\n\nExample:",
      "metadata": {
        "id": "lJHUW148IHbX"
      }
    },
    {
      "cell_type": "code",
      "source": "len(my_string)",
      "metadata": {
        "id": "7vI1KLphIHbY"
      },
      "execution_count": null,
      "outputs": []
    },
    {
      "cell_type": "markdown",
      "source": "##### ==================================================================================================\n*String replacement*\n\n`.replace()` is a **method** -- a function that's built into all objects of a given type.\n\nFunctions (e.g. print, len, and type) and methods (e.g. str.replace) are effectively the same. However methods are defined within a particular class and is called on instances of that class using . followed by a method name.\n\nExample:",
      "metadata": {
        "id": "7_VisV-CIHbY"
      }
    },
    {
      "cell_type": "code",
      "source": "my_string = my_string.replace(\"COOP Careers\", \"Chris\")\nprint(my_string)",
      "metadata": {
        "id": "vqfd2UkFIHbY"
      },
      "execution_count": null,
      "outputs": []
    },
    {
      "cell_type": "markdown",
      "source": "##### ==================================================================================================\n## String Indexing\n\nPython allows us to extract characters at specific index locations within a string. All index by default start with index 0.\n\nRecall `my_string` is now defined as `I love Chris`\n\n<img src=\"https://tinyurl.com/jakceks4\" style=\"float: left; margin: 20px; height: 120px\">",
      "metadata": {
        "id": "okL-hG9kIHbY"
      }
    },
    {
      "cell_type": "markdown",
      "source": "##### ==================================================================================================\n*Select the first index character in* `my_string`\n\nExample:",
      "metadata": {
        "id": "zXNjVr6YIHbY"
      }
    },
    {
      "cell_type": "code",
      "source": "my_string[0]",
      "metadata": {
        "id": "32iuXdWLIHbZ"
      },
      "execution_count": null,
      "outputs": []
    },
    {
      "cell_type": "markdown",
      "source": "*Select the fifth index character in* `my_string`",
      "metadata": {
        "id": "k1SFUDPBIHbZ"
      }
    },
    {
      "cell_type": "code",
      "source": "my_string[4]",
      "metadata": {
        "id": "I-0dKeTkIHbZ"
      },
      "execution_count": null,
      "outputs": []
    },
    {
      "cell_type": "markdown",
      "source": "##### ==================================================================================================\n\"Slicing: is a process by which you may pass a range of index values to select multiple elements in a string. In general, slicing in Python is inclusive on the left and exclusive on the right. In mathematics think of a interval from `[a,b)`. the general format for slicing a string is `x[start:end]` such that `x` represents the string\n\nExample:",
      "metadata": {
        "id": "lz8-cYFVIHbZ"
      }
    },
    {
      "cell_type": "code",
      "source": "my_string[0:9]",
      "metadata": {
        "id": "WFuENyjNIHbZ"
      },
      "execution_count": null,
      "outputs": []
    },
    {
      "cell_type": "markdown",
      "source": "Example:",
      "metadata": {
        "id": "BLara2qoIHba"
      }
    },
    {
      "cell_type": "code",
      "source": "my_string[3:10]",
      "metadata": {
        "id": "_PFYogCJIHba"
      },
      "execution_count": null,
      "outputs": []
    },
    {
      "cell_type": "markdown",
      "source": "##### ==================================================================================================\nYou may also control the increments of your slices (default is 1) by adding on one extra component to the general format `x[start:end:step]`\n\n*Slice every third character starting at 0 and ending at 12. Remember spaces count as a character*\n\nExample:",
      "metadata": {
        "id": "cQxL83VsIHba"
      }
    },
    {
      "cell_type": "code",
      "source": "my_string[0:12:2]",
      "metadata": {
        "id": "WjE3Op-FIHba"
      },
      "execution_count": null,
      "outputs": []
    },
    {
      "cell_type": "markdown",
      "source": "##### ==================================================================================================\n*Reversing string `my_string`*\n\nExample:",
      "metadata": {
        "id": "VN8ceINFIHba"
      }
    },
    {
      "cell_type": "code",
      "source": "my_string[::-1]",
      "metadata": {
        "id": "I1CzcIDcIHba"
      },
      "execution_count": null,
      "outputs": []
    },
    {
      "cell_type": "markdown",
      "source": "##### ==================================================================================================\n*Select the last character in the string `my_string`*\n\nExample:",
      "metadata": {
        "id": "xvbLkKhMIHbb"
      }
    },
    {
      "cell_type": "code",
      "source": "my_string[-1]",
      "metadata": {
        "id": "lIjBGS8uIHbb"
      },
      "execution_count": null,
      "outputs": []
    },
    {
      "cell_type": "markdown",
      "source": "##### ==================================================================================================\n### Lists\n\nA `list` is a mutable sequence of objects in Python that may contain any combination of types\n\n<b>WARNING:</b> Using `list` as a variable name will overwrite the build-in Python function. `list = [0,1,2,3,4,5]`. <b>Do not do this!</b>",
      "metadata": {
        "id": "VWMmdj6zIHbb"
      }
    },
    {
      "cell_type": "markdown",
      "source": "##### ==================================================================================================\nCreating a sample list\n\nExample:",
      "metadata": {
        "id": "5MyXqkPjIHbc"
      }
    },
    {
      "cell_type": "code",
      "source": "my_list = [\"apple\",\"orange\",\"grape\",\"pineapple\",\"cherry\",\"lemon\"]\nprint(my_list)",
      "metadata": {
        "id": "35EI2Id-IHbc"
      },
      "execution_count": null,
      "outputs": []
    },
    {
      "cell_type": "markdown",
      "source": "##### ==================================================================================================\nRecall `list` are mutable so you may modify them as you like\n\nExample:",
      "metadata": {
        "id": "ir8IB5zWIHbc"
      }
    },
    {
      "cell_type": "code",
      "source": "my_list[3] = \"RED\"\nprint(my_list)",
      "metadata": {
        "id": "r0vEyDv7IHbc"
      },
      "execution_count": null,
      "outputs": []
    },
    {
      "cell_type": "markdown",
      "source": "##### ==================================================================================================\n*Adding new item to the list via append*\n\nExample:",
      "metadata": {
        "id": "vGkqIm3XIHbc"
      }
    },
    {
      "cell_type": "code",
      "source": "my_list.append(\"BLUE\")\nprint(my_list)",
      "metadata": {
        "id": "xLdNHwaGIHbc"
      },
      "execution_count": null,
      "outputs": []
    },
    {
      "cell_type": "markdown",
      "source": "##### ==================================================================================================\n### Tuples\n\nA `tuple` is a sequence of objects may contain any combination of types which is ordered and immutable.\n\nExample:",
      "metadata": {
        "id": "ZC_z_U2eIHbd"
      }
    },
    {
      "cell_type": "code",
      "source": "my_tuple = (0,1,2,3,4,5)\nprint(my_tuple)",
      "metadata": {
        "id": "_Vgg4Or7IHbd"
      },
      "execution_count": null,
      "outputs": []
    },
    {
      "cell_type": "markdown",
      "source": "##### ==================================================================================================\n*Slice tuple from index 2 to 5*\n\nExample:",
      "metadata": {
        "id": "J0QZ9hiQIHbd"
      }
    },
    {
      "cell_type": "code",
      "source": "print(my_tuple[2:5])",
      "metadata": {
        "id": "Ftrxx533IHbd"
      },
      "execution_count": null,
      "outputs": []
    },
    {
      "cell_type": "markdown",
      "source": "##### ==================================================================================================\n### Range\n\nThe `range` function  can be used to create a sequence of numbers. The order of arguments is start, stop, step, just like in slicing.\n##### ==================================================================================================\n*Creating a sequence of numbers from  0 to 10 `range` function*\n\nExample:",
      "metadata": {
        "id": "k75poPS0IHbd"
      }
    },
    {
      "cell_type": "code",
      "source": "list(range(0, 10))",
      "metadata": {
        "id": "qrHEYgxhIHbe"
      },
      "execution_count": null,
      "outputs": []
    },
    {
      "cell_type": "markdown",
      "source": "##### ==================================================================================================\n*Creating a sequence of numbers from 1 to 10, incrementing by 2 using `range` function*\n\nExample:",
      "metadata": {
        "id": "2XYAOTDRIHbe"
      }
    },
    {
      "cell_type": "code",
      "source": "list(range(0, 10, 2))",
      "metadata": {
        "id": "06sGV-ybIHbe"
      },
      "execution_count": null,
      "outputs": []
    },
    {
      "cell_type": "markdown",
      "source": "Example:",
      "metadata": {
        "id": "uecfeLKKIHbe"
      }
    },
    {
      "cell_type": "code",
      "source": "list(range(0, 9, 2))",
      "metadata": {
        "id": "loKi38rRIHbe"
      },
      "execution_count": null,
      "outputs": []
    },
    {
      "cell_type": "markdown",
      "source": "##### ==================================================================================================\n### Dictionaries\n\nA `Dictionary` is an unordered collection of key-value pairs, where the key indicates the location of some data and the value is the data that a key points to. They are mutable, but do not allow duplicate keys.\n##### ==================================================================================================",
      "metadata": {
        "id": "4vemU5oNIHbe"
      }
    },
    {
      "cell_type": "markdown",
      "source": "*Creating a dictionary that maps the first name, last name and gender of the individual*",
      "metadata": {
        "id": "xK9wG6S-IHbf"
      }
    },
    {
      "cell_type": "code",
      "source": "my_dict = {\"first_name\": \"Chris\", \"last_name\": \"Chan\", \"gender\": \"Male\"}\nprint(my_dict[\"first_name\"])\nprint(my_dict[\"last_name\"])\nprint(my_dict[\"gender\"])",
      "metadata": {
        "id": "KXboDZtRIHbf"
      },
      "execution_count": null,
      "outputs": []
    },
    {
      "cell_type": "markdown",
      "source": "##### ==================================================================================================\n*Add an entry for \"height\" of the individual*\n\nExample:",
      "metadata": {
        "id": "mAHwTjbBIHbf"
      }
    },
    {
      "cell_type": "code",
      "source": "my_dict[\"height_cm\"] = 173\nprint(my_dict[\"first_name\"])\nprint(my_dict[\"last_name\"])\nprint(my_dict[\"gender\"])\nprint(my_dict[\"height_cm\"])",
      "metadata": {
        "id": "wEA1x2hMIHbf"
      },
      "execution_count": null,
      "outputs": []
    },
    {
      "cell_type": "markdown",
      "source": "##### ==================================================================================================\n### Summary\n- Python has the following built-in types (among others):\n    - Single-element:\n        - `int` whole numbers\n        - `float` decimal numbers\n        - `bool` `True` or `False`\n        \n    - Container:\n        - `str` for sequences of characters\n        - `list` for holding arbitrary objects and is mutable\n        - `tuple` for holding arbitrary objects but is immutable \n        - `dict` for storing arbitrary objects in key:value pairs\n        \n- Ordered container types such as `str`, `list`, and `tuple` allow you to select items by position.\n- The built-in `range` function returns a sequence of numbers, starting from 0 by default, and increments by 1 (by default), and stops before a specified number.\n- Python has built-in functions such as `len` that take in object and returns the number of items in an object.\n- Python types have built-in methods such as `str.replace`, replaces a specified phrase with another specified phrase.",
      "metadata": {
        "id": "W1bpxRzUIHbf"
      }
    },
    {
      "cell_type": "markdown",
      "source": "## Insert Examples for Students to work on here",
      "metadata": {
        "id": "t8yZJGD_IHbg"
      }
    },
    {
      "cell_type": "markdown",
      "source": "##### ==================================================================================================\n### Exercise 1:\n\nAssign any `int` value to a variable we call `x`. Then use the `assignment operators` to reassign the value of `x` by carrying out the following steps:\n\n1. Double the variable `x`\n2. Add 6 to the variable `x`\n3. Divide the variable `x` by 2\n4. Subtract your initial value from `x`\n5. Use the `assert` function in python to establish that x == 3 (An error will occur if an error is made)",
      "metadata": {
        "id": "zfclQ__AIHbg"
      }
    },
    {
      "cell_type": "code",
      "source": "# Write your solution here",
      "metadata": {
        "id": "fBIP5QiWIHbg"
      },
      "execution_count": null,
      "outputs": []
    },
    {
      "cell_type": "markdown",
      "source": "##### ==================================================================================================\n### Exercise 2:\n\nCreate a string called `my_name` that contains the letters of your first name in all lower case letters",
      "metadata": {
        "id": "0xuxw0XPIHbg"
      }
    },
    {
      "cell_type": "code",
      "source": "# Write your solution here",
      "metadata": {
        "id": "AeWB0mv4IHbg"
      },
      "execution_count": null,
      "outputs": []
    },
    {
      "cell_type": "markdown",
      "source": "Create another string called `my_intro` that that contains the sentence `\"hello my job is \"` in all lower case letters",
      "metadata": {
        "id": "z1Z5wYYiIHbh"
      }
    },
    {
      "cell_type": "code",
      "source": "# Write your solution here",
      "metadata": {
        "id": "HZZaDtFvIHbh"
      },
      "execution_count": null,
      "outputs": []
    },
    {
      "cell_type": "markdown",
      "source": "Reassign the string `my_intro` and use the `.replace` function to replace the word `\"job\"` with `\"name\"`",
      "metadata": {
        "id": "ErjwHDmDIHbh"
      }
    },
    {
      "cell_type": "code",
      "source": "# Write your solution here",
      "metadata": {
        "id": "J9exauBzIHbh"
      },
      "execution_count": null,
      "outputs": []
    },
    {
      "cell_type": "markdown",
      "source": "Use the addition `+` operator to concate the string `my_intro` followed by `my_name`. Be sure to utilize proper spacing with `\" \"` when needed",
      "metadata": {
        "id": "ajdB4j53IHbh"
      }
    },
    {
      "cell_type": "code",
      "source": "# Write your solution here",
      "metadata": {
        "id": "YMuq5rm_IHbi"
      },
      "execution_count": null,
      "outputs": []
    },
    {
      "cell_type": "markdown",
      "source": "##### ==================================================================================================\n### Exercise 3:\n\nCreate a string called `your_slice` that contains the letters `\"thisiswhycoopisthebest\"`. Then slice the string `your_slice` to obtain the letters `coop` as an output",
      "metadata": {
        "id": "16IJOqmvIHbi"
      }
    },
    {
      "cell_type": "code",
      "source": "# Write your solution here",
      "metadata": {
        "id": "0NacFMVSIHbi"
      },
      "execution_count": null,
      "outputs": []
    },
    {
      "cell_type": "markdown",
      "source": "##### ==================================================================================================\n### Exercise 4:\n\nCreate a list called `my_list` that contains the integers 1,2,3,4,5. Then append the string `six` to `my_list`",
      "metadata": {
        "id": "5lo_FcsBIHbi"
      }
    },
    {
      "cell_type": "code",
      "source": "# Write your solution here",
      "metadata": {
        "id": "gN7NOpwFIHbi",
        "trusted": true
      },
      "execution_count": 3,
      "outputs": []
    }
  ]
}